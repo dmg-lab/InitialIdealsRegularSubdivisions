{
 "cells": [
  {
   "cell_type": "markdown",
   "id": "97432ad0",
   "metadata": {},
   "source": [
    "# Computing lower bounds $I_w$, upper bounds $I^w$, $\\Omega(I)$, and $\\Omega^*(I)$\n",
    "\n",
    "*Authors: George Balla, Daniel Corey, Igor Makhlin, and Victoria Schleis*\n",
    "\n",
    "In this notebook, we give general methods how to compute the lower bound ideal $I_w$, the upper bound ideal $I^w$, as well as the fans $\\Omega(I)$ and $\\Omega^*(I)$. We then demonstrate these methods on several examples, mostly focused on several Plücker ideals.\n",
    "\n",
    "Our code uses the package Oscar in version 1.3.1."
   ]
  },
  {
   "cell_type": "code",
   "execution_count": null,
   "id": "a8f07a3e-38d6-4dad-bb31-0a26cbc90018",
   "metadata": {},
   "outputs": [],
   "source": [
    "using Oscar;\n",
    "using Combinatorics;\n",
    "pm = Polymake;"
   ]
  },
  {
   "cell_type": "markdown",
   "id": "4ab6986b-af89-47f8-9e34-1010ed7ea0e4",
   "metadata": {},
   "source": [
    "## Auxiliary functions: Subsets ordered in lex and revlex\n",
    "\n",
    "Below are some functions sorting subsets with respect to the lexicographic and reverse lexicographic ordering, which we need for the preceeding code.\n",
    "\n",
    "---\n",
    "\n",
    "**Function:** `subsets_lex(S, k)`\n",
    "\n",
    "*Description*: Given a *sorted* list of integers `S` and a nonnegative integer `k`, returns the subsets of `S` that have size `k` sorted in lex. \n",
    "\n",
    "*Example*: `subsets_lex(Vector(1:4), 2)` returns\n",
    "\n",
    "```[[1, 2], [1, 3], [1, 4], [2, 3], [2, 4], [3, 4]]```\n",
    "\n",
    "Note that `[1, 4]` appears before `[2, 3]`. \n",
    "\n",
    "---\n",
    "\n",
    "**Function:** `subsets_revlex(S, k)`\n",
    "\n",
    "*Description*: Given a *sorted* list of integers `S` and a nonnegative integer `k`, returns the subsets of `S` that have size `k` sorted in *revlex*. \n",
    "\n",
    "*Example*: `subsets_revlex(Vector(1:4), 2)` returns\n",
    "\n",
    "```[[1, 2], [1, 3], [2, 3], [1, 4], [2, 4], [3, 4]]```\n",
    "\n",
    "Note that `[2, 3]` appears before `[1, 4]`. \n",
    "\n"
   ]
  },
  {
   "cell_type": "code",
   "execution_count": null,
   "id": "b7a25172-0a27-4bbf-bf12-4f9da6301666",
   "metadata": {},
   "outputs": [],
   "source": [
    "function subsets_lex(S::Vector{Int64}, k::Int64)\n",
    "    return sort!(subsets(S,k))\n",
    "end\n",
    "\n",
    "function subsets_revlex(S::Vector{Int64}, k::Int64)\n",
    "    Sk = sort!([reverse!(a) for a in subsets(S,k)])\n",
    "    return [reverse!(a) for a in Sk]\n",
    "end"
   ]
  },
  {
   "cell_type": "markdown",
   "id": "e2c67fc1",
   "metadata": {},
   "source": [
    "## Point configurations from lineality spaces\n",
    "\n",
    "In this section, we automate the computation of the point configuration associated to an ideal. Our algorithmic process is outlined in Appendix B, and mainly relies on computing the lineality space of an ideal first.\n",
    "\n",
    "\n",
    "---\n",
    "\n",
    "**Function:** `lineality_space_H_rep(I)`\n",
    "\n",
    "*Description*: Given an ideal `I` of a polynomial ring, returns the lineality space of the associated point configuration $\\mathcal{A}(I)$ of `I` in its hyperplane representation. \n",
    "\n",
    "---\n",
    "\n",
    "**Function:** `lineality_space_V_rep(I)`\n",
    "\n",
    "*Description*: Given an ideal `I` of a polynomial ring, returns the lineality space of the associated point configuration $\\mathcal{A}(I)$ of `I`, in its vertex representation. "
   ]
  },
  {
   "cell_type": "code",
   "execution_count": null,
   "id": "68da5576",
   "metadata": {},
   "outputs": [],
   "source": [
    "function lineality_space_H_rep(I)\n",
    "    Grob = groebner_basis(I, complete_reduction = true)\n",
    "    W_perp = Vector{Vector{Int64}}()\n",
    "    for f in Grob\n",
    "        exponents_f = collect(exponents(f))\n",
    "        for i in 1:length(exponents_f) - 1, j in i+1:length(exponents_f)\n",
    "            push!(W_perp, exponents_f[i] - exponents_f[j])\n",
    "        end\n",
    "    end\n",
    "    n, W_perp = rref(matrix(QQ, W_perp))\n",
    "    return W_perp[1:n,:]\n",
    "end\n",
    "\n",
    "function lineality_space_V_rep(I)\n",
    "    H_rep = lineality_space_H_rep(I)\n",
    "    V_rep = transpose(kernel(H_rep, side = :right))\n",
    "    n, V_rep = rref(V_rep)\n",
    "    return V_rep\n",
    "end"
   ]
  },
  {
   "cell_type": "markdown",
   "id": "357d6e00",
   "metadata": {},
   "source": [
    "From the lineality space, we now compute the point configuration. \n",
    "\n",
    "---\n",
    "\n",
    "**Function:** `point_configuration(I)`\n",
    "\n",
    "*Description*: Given an ideal `I` of a polynomial ring, returns the associated point configuration $\\mathcal{A}(I)$ of `I`. "
   ]
  },
  {
   "cell_type": "code",
   "execution_count": null,
   "id": "9e4972c8",
   "metadata": {},
   "outputs": [],
   "source": [
    "function point_configuration(I)\n",
    "    M = lineality_space_V_rep(I)\n",
    "    A = [M[:,i] for i in (1:ncols(M))]\n",
    "    return A\n",
    "end"
   ]
  },
  {
   "cell_type": "markdown",
   "id": "9754b814",
   "metadata": {},
   "source": [
    "*Example*: We demonstrate the computation on the Plücker ideal $$I_{2,4} = \\langle x_{12}x_{34} - x_{13}x_{24} + x_{14}x_{23} \\rangle \n",
    "\\subset \\mathbb{Q}[x_{12}, x_{13}, x_{14}, x_{23}, x_{24}, x_{34}].$$ Observe that the point configuration we obtain is not the hypersimplex one usually associates to $I_{2,4}$, but instead an affinely equivalent point configuration."
   ]
  },
  {
   "cell_type": "code",
   "execution_count": null,
   "id": "fdaf7aa8",
   "metadata": {},
   "outputs": [],
   "source": [
    "Plu, x = polynomial_ring(QQ, \"x\" => subsets_lex([1,2,3,4], 2));\n",
    "I24 = grassmann_pluecker_ideal(Plu, 2, 4);\n",
    "A = point_configuration(I24)\n",
    "visualize(convex_hull([a[1:3] for a in A]))"
   ]
  },
  {
   "cell_type": "markdown",
   "id": "3effe94a-380d-4262-bdef-d673e4840550",
   "metadata": {},
   "source": [
    "## Intersect with coordinate strata\n",
    "\n",
    "Let $S$ be a polynomial ring, say $S = \\mathbb{Q}[x_1,\\ldots,x_n]$, and $I$ an ideal of $S$. Given a collection of coordinates $B \\subset \\{x_1,\\ldots,x_n\\}$, we form the ideal:\n",
    "\n",
    "$$I_{B} = (I + \\langle x_i \\, : \\, x_i \\notin B \\rangle ) \\cap \\mathbb{Q}[x_{i} \\, : \\, x_{i} \\in B]$$\n",
    "\n",
    "We compute the ideal $\\tilde{I}_B$, which is generated by $I_B$ in $S$. We can achieve this with the following function.\n",
    "\n",
    "**Function:** `stratum(I, B)`\n",
    "\n",
    "*Description*: Given an ideal `I` of a polynomial ring and `B` a subset of the generators of $S$, return the ideal $\\tilde{I}_{B}$ above. \n"
   ]
  },
  {
   "cell_type": "code",
   "execution_count": null,
   "id": "b2be3a3c-536b-4ebd-8b13-f0d63603c0d9",
   "metadata": {},
   "outputs": [],
   "source": [
    "function stratum(I, B)\n",
    "    R = base_ring(I)\n",
    "    x = gens(R)\n",
    "    xNB = [x[i] for i in 1:length(x) if !(x[i] in B)]\n",
    "    return eliminate(I + ideal(R, xNB), xNB)\n",
    "end"
   ]
  },
  {
   "cell_type": "markdown",
   "id": "9085fbd6",
   "metadata": {},
   "source": [
    "*Example*: Consider the Plücker ideal $I_{2,4}$\n",
    "and $B = \\{x_{12}, x_{13}, x_{14}, x_{23}, x_{24}\\}$. Then $I_{B} =  \\langle - x_{13}x_{24} + x_{14}x_{23} \\rangle$.\n"
   ]
  },
  {
   "cell_type": "code",
   "execution_count": null,
   "id": "50cf1406",
   "metadata": {},
   "outputs": [],
   "source": [
    "B_no_34 = [x[i] for i in 1:5]\n",
    "stratum(I24, B_no_34) "
   ]
  },
  {
   "cell_type": "markdown",
   "id": "b576d7d6-f6b5-4fa3-980c-cc2bc467521f",
   "metadata": {},
   "source": [
    "## Subdivisions, ideals of strata, $I_w$, and $I^w$\n",
    "\n",
    "Now suppose $\\Delta = \\mathcal{A}(I)$ is the point configuration of $I$ from the paper, in particular the points are labeled by the coordinates in the polynomial ring $S$. A vector $\\mathsf{w}\\in \\mathbb{R}^{n}$ induces a regular subdivision $\\mathrm{subd}_{\\mathsf{w}}(\\Delta)$ of $\\Delta$. We can form the ideals \n",
    "\n",
    "$$\\{\\tilde{I}_{B} \\, : \\, B \\text{ is a maximal cell of } \\mathrm{subd}_{\\mathsf{w}}(\\Delta)\\}$$\n",
    "\n",
    "and the ideal they generate in $S$ is\n",
    "\n",
    "$$I_{\\mathsf{w}} = \\sum_{B \\text{ maximal}} \\tilde{I}_{B}. $$\n",
    "\n",
    "---\n",
    "\n",
    "**Function:** `ideals_of_max_cells(I, w, Delta=point_configuration(I))`\n",
    "\n",
    "*Description*: Given an ideal `I` of a polynomial ring, `w` a vector of length equal to the number of generators of $S$, and `Delta` the point configuration of `I`, return a lists of the ideals $\\tilde{I}_{B}$ above, as $B$ runs through the coordinates of the maximal cells. The input of `Delta` is optional, if no point configuration is provided, the point configuration is computed by the function `point_configuration(I)` provided above.\n",
    "\n",
    "---\n",
    "\n",
    "**Function:** `ideal_w(I, w, Delta=point_configuration(I))`\n",
    "\n",
    "*Description*: Given an ideal `I`,  `w`, and an optional point configuration `Delta` as above, returns the ideal $I_{\\mathsf{w}}$."
   ]
  },
  {
   "cell_type": "code",
   "execution_count": null,
   "id": "ec6d00c7-cb2d-4dd3-9bf3-fc216d73ec61",
   "metadata": {},
   "outputs": [],
   "source": [
    "function ideals_of_max_cells(I, w, Delta=point_configuration(I))\n",
    "    x = gens(base_ring(I))\n",
    "    subd = subdivision_of_points(Delta, w)\n",
    "    return [stratum(I, x[B]) for B in maximal_cells(subd)]\n",
    "end\n",
    "\n",
    "function ideal_w(I, w, Delta=point_configuration(I))\n",
    "    return sum(ideals_of_max_cells(I, w, Delta))\n",
    "end"
   ]
  },
  {
   "cell_type": "markdown",
   "id": "3425c062",
   "metadata": {},
   "source": [
    "*Example*: Consider the Plücker ideal $I_{2,4}$ as in the examples above. "
   ]
  },
  {
   "cell_type": "code",
   "execution_count": null,
   "id": "6d85e455",
   "metadata": {},
   "outputs": [],
   "source": [
    "w = [1,0,0,0,0,0]\n",
    "ideals_of_max_cells(I24, w) \n",
    "ideal_w(I24, w)"
   ]
  },
  {
   "cell_type": "markdown",
   "id": "c97879fc",
   "metadata": {},
   "source": [
    "Note that the vertices line up in order with the order of the Plücker coordinates in the stratum example. \n",
    "\n",
    "That is, $I_{\\mathsf{w}} = \\langle - x_{13}x_{24} + x_{14}x_{23} \\rangle$."
   ]
  },
  {
   "cell_type": "markdown",
   "id": "a455292b",
   "metadata": {},
   "source": [
    "Similarly, we can compute the ideal \n",
    "\n",
    "$$I^\\mathsf{w} = \\bigcap_{B\\text{ cell of }\\Delta^*} \\tilde{I}^B$$\n",
    "\n",
    "as the intersection of the ideals $\\tilde{I}_B$ associated to maximal cells.  \n",
    "\n",
    "---\n",
    "\n",
    "**Function:** `ideal_up_w(I, w, Delta=point_configuration(I))`\n",
    "\n",
    "*Description*: Given an ideal `I`, `w`, and an optional point configuration `Delta` as above, returns the ideal $I^{\\mathsf{w}}$."
   ]
  },
  {
   "cell_type": "code",
   "execution_count": null,
   "id": "dea414fa",
   "metadata": {},
   "outputs": [],
   "source": [
    "function ideal_up_w(I, w, Delta=point_configuration(I))\n",
    "    R = base_ring(I)\n",
    "    x = gens(R)\n",
    "    subd = subdivision_of_points(Delta, w)\n",
    "    Iw=ideal(R, [R(1)])\n",
    "    for C in maximal_cells(subd)\n",
    "        NV = [gens(R)[i] for i in setdiff(1:length(Delta), C)]\n",
    "        SC, x = polynomial_ring(QQ, \"x\" => sort(C))\n",
    "        f = hom(SC, R, [gens(R)[i] for i in sort(C)])\n",
    "        CI = preimage(f, I)\n",
    "        G = ([R(f(g)) for g in gens(CI)])\n",
    "        append!(G,NV)\n",
    "        Iw_new = ideal(R,G)\n",
    "        Iw = intersect(Iw,ideal(R,G))\n",
    "    end\n",
    "    return Iw\n",
    "end"
   ]
  },
  {
   "cell_type": "markdown",
   "id": "02e4a3c0",
   "metadata": {},
   "source": [
    "*Example:* For a random point configuration `Delta`, we compute the associated toric ideal `I` and the ideal $I^w$."
   ]
  },
  {
   "cell_type": "code",
   "execution_count": null,
   "id": "2e40f8d8",
   "metadata": {},
   "outputs": [],
   "source": [
    "d = 3;\n",
    "n = 6;\n",
    "\n",
    "R, x = graded_polynomial_ring(QQ, \"x\" => (1:n));\n",
    "S, t, z = polynomial_ring(QQ, [:t], \"z\" => (1:d));\n",
    "t = t[1];\n",
    "\n",
    "A = [rand(0:10, d) for _ in (1:n)];\n",
    "f = hom(R, S, [t*prod(z.^A[i]) for i in (1:n)]);\n",
    "I = kernel(f);\n",
    "\n",
    "w = rand(0:1, n);\n",
    "\n",
    "Iw = ideal_up_w(I, w, A)"
   ]
  },
  {
   "cell_type": "markdown",
   "id": "f7297749-be34-46ca-a65f-ed5c4350903a",
   "metadata": {},
   "source": [
    "## Initial ideals\n",
    "\n",
    "Oscar has a built-in function for handling initial ideals. For example,\n",
    "```\n",
    "nu_t = tropical_semiring_map(QQ, min)\n",
    "initial(I24, nu_t, [1,0,0,0,0,0]) == ideal(Plu, -x[2]*x[5] + x[3]*x[4])\n",
    "```\n",
    "computes the initial ideal $\\mathrm{in}_{\\mathsf{w}} I_{2,4} = \\langle - x_{13}x_{24} + x_{14}x_{23} \\rangle$. "
   ]
  },
  {
   "cell_type": "code",
   "execution_count": null,
   "id": "24f21f6d-416c-4c6f-9e1d-40ea050f64d9",
   "metadata": {},
   "outputs": [],
   "source": [
    "nu_t = tropical_semiring_map(QQ, min);"
   ]
  },
  {
   "cell_type": "markdown",
   "id": "67bea068-17de-462f-916c-54900e9efaf4",
   "metadata": {},
   "source": [
    "## The fan $\\Omega(I)$\n",
    "\n",
    "Recall that, for an ideal $I$ with point configuration $\\Delta$, we define $\\Omega(I)$ by\n",
    "\n",
    "$$ \\Omega(I) = \\{\\mathsf{w} \\in \\mathbb{R}^{n} \\, : \\, \\mathrm{in}_{\\mathsf{w}} I = I_{\\mathsf{w}} \\}. $$\n",
    "\n",
    "This is a subfan of the secondary fan $\\mathrm{Sec}(\\Delta)$. \n",
    "\n",
    "---\n",
    "\n",
    "**Function:** `Omega_fan(I, Delta, Sec, outside = false)`\n",
    "\n",
    "*Description*: Given an ideal `I` of a polynomial ring, `Delta` the point configuration of `I`, and `Sec` the secondary fan of `Delta`, returns the fan $\\Omega(I)$ as a pair of rays and cones. If the option `outside = true`, then this lists the cones of `Sec` that are *not* in `Omega`. \n",
    "\n",
    "Here, `Sec` can be given as a `PolyhedralFan` or as a pair `[rays_Delta, cones_Delta]` where `rays_Delta` is a `Vector{RayVector}` containing the rays and `cones_Delta` is a `IncidenceMatrix` recording the cones of `Sec`. The latter is useful when `Sec` is computed up to symmetry. "
   ]
  },
  {
   "cell_type": "code",
   "execution_count": null,
   "id": "20a4d112-24ae-4242-a8f0-ee41cab8a491",
   "metadata": {},
   "outputs": [],
   "source": [
    "function Omega_fan(I, Delta, Sec, outside = false)\n",
    "\n",
    "    if typeof(Sec) == PolyhedralFan{QQFieldElem}\n",
    "        rays_Delta = rays_modulo_lineality(Sec)[1];\n",
    "        cones_Delta = cones(Sec);\n",
    "    else\n",
    "        rays_Delta, cones_Delta = Sec\n",
    "    end\n",
    "\n",
    "    n_cones_Delta, n_rays_Delta = size(cones_Delta)\n",
    "    reps = [sum([rays_Delta[j] for j in 1:n_rays_Delta if cones_Delta[i,j]]) \n",
    "                               for i in 1:n_cones_Delta];\n",
    "\n",
    "    tests = []\n",
    "    for w in reps\n",
    "        w = Vector{Int64}(pm.common.primitive(w))\n",
    "        init_w_I = initial(I, nu_t, w)\n",
    "        I_w = ideal_w(I,  w, vertices(Delta))\n",
    "        push!(tests, init_w_I == I_w)\n",
    "    end\n",
    "    \n",
    "    if outside\n",
    "        outside_Omega = [i for i in 1:length(reps) if !tests[i]]\n",
    "        return [rays_Delta, cones_Delta[outside_Omega, :]]\n",
    "    else\n",
    "        inside_Omega = [i for i in 1:length(reps) if tests[i]];\n",
    "        return polyhedral_fan(cones_Delta[inside_Omega, :], rays_Delta, lineality_space(Sec))\n",
    "    end\n",
    "    \n",
    "end"
   ]
  },
  {
   "cell_type": "markdown",
   "id": "df2174ec-486a-4b63-8f1f-452509bf7705",
   "metadata": {},
   "source": [
    "*Example*: We see that $\\Omega(I_{2,4}) = \\mathrm{Sec}(\\Delta(2,4))$,"
   ]
  },
  {
   "cell_type": "code",
   "execution_count": null,
   "id": "ae69eb6b-1ef9-4e00-82b0-eae2819b9911",
   "metadata": {},
   "outputs": [],
   "source": [
    "Plu24, x = polynomial_ring(QQ, \"x\" => subsets_lex([1,2,3,4], 2));\n",
    "I24 = grassmann_pluecker_ideal(Plu24, 2, 4);\n",
    "Delta24 = hypersimplex(2,4);\n",
    "Delta24_polymake = Polymake.polytope.hypersimplex(2,4);\n",
    "Sec24 = polyhedral_fan(Polymake.fan.secondary_fan(Delta24_polymake));\n",
    "F = Omega_fan(I24, Delta24, Sec24)\n",
    "is_complete(F)"
   ]
  },
  {
   "cell_type": "markdown",
   "id": "9622f8a6-5e0d-4bb2-bc00-981e8740c17f",
   "metadata": {},
   "source": [
    "but there are 45 cones of  $\\mathrm{Sec}(\\Delta(2,5))$ not contained in $\\Omega(I_{2,5})$, and these fall into two $\\mathfrak{S}_{5}$ symmetry classes: 30 of them are maximal while 15 have codimension 1."
   ]
  },
  {
   "cell_type": "code",
   "execution_count": null,
   "id": "e8107c87-d553-47f2-8dc4-ca9c7e77a71c",
   "metadata": {},
   "outputs": [],
   "source": [
    "Plu25, x = polynomial_ring(QQ, \"x\" => subsets_lex([1,2,3,4,5], 2));\n",
    "I25 = grassmann_pluecker_ideal(Plu25, 2, 5);\n",
    "Delta25 = hypersimplex(2,5);\n",
    "\n",
    "Delta25_polymake = Polymake.polytope.hypersimplex(2,5);\n",
    "Sec25 = polyhedral_fan(Polymake.fan.secondary_fan(Delta25_polymake));\n",
    "Omega25 = Omega_fan(I25, Delta25, Sec25, true);\n",
    "Omega25[2]"
   ]
  },
  {
   "cell_type": "markdown",
   "id": "cf7ade22-983e-4f36-adca-628cd89d44e1",
   "metadata": {},
   "source": [
    "## Comparing Tropicalization and $\\Omega(I)$\n",
    "\n",
    "We now give the computations for Remark 5.5. Here, we compute the intersection of the tropicalization of the Grassmannian $\\mathrm{TGr}(3,6)$ with the fan $\\Omega(I)$. Since the secondary fan is very large, instead of computing it upfront and then intersecting with the tropical Grassmannian, we start with the tropical Grassmannian and check for each cone whether it is contained in $\\Omega(I)$. To simplify computations, we load a file containing the pre-computed $\\mathrm{TGr}(3,6)$ (modulo lineality). This file was provided to the authors by Michael Joswig and can be downloaded <a href=\"https://github.com/micjoswig/oscar-notebooks/blob/master/Tropical%2BGrassmannian/TGr36.mrdi\">here</a>. It is based on data obtained by <a href=\"https://doi.org/10.1016/j.jsc.2023.102224\">Bendle, Böhm, Ren and Schröter</a> and uses the <a href=\"https://doi.org/10.1007/978-3-031-64529-7_25\">FAIR file format</a> developed by Della Vecchia, Joswig and Lorenz. Warning: This computation takes a few minutes."
   ]
  },
  {
   "cell_type": "code",
   "execution_count": null,
   "id": "fde91e9a",
   "metadata": {},
   "outputs": [],
   "source": [
    "k=3; n=6\n",
    "\n",
    "PI = grassmann_pluecker_ideal(k, n);\n",
    "Deltakn = vertices(hypersimplex(k,n));\n",
    "S = base_ring(PI);\n",
    "T = load(\"TGr36.mrdi\");\n",
    "R = rays_modulo_lineality(T)[1];\n",
    "C = cones(T);\n",
    "F = [];\n",
    "notF = [];\n",
    "for i in (1:n_rows(C))\n",
    "    w = sum([C[i,j]*R[j] for j in (1:length(R))])\n",
    "    w = -lcm(denominator.(w))*w\n",
    "    c = cone([C[i,j]*R[j] for j in (1:length(R))])\n",
    "\n",
    "    inI = initial(PI, tropical_semiring_map(QQ), w)\n",
    "    Iw = ideal_w(PI,w,Deltakn)\n",
    "    if (Iw == inI)\n",
    "        push!(F, c)\n",
    "    else\n",
    "        push!(notF, c)\n",
    "    end\n",
    "end\n",
    "(F,notF)"
   ]
  },
  {
   "cell_type": "markdown",
   "id": "fc04b82c",
   "metadata": {},
   "source": [
    "We can count the number of cones of specific dimension lying in the intersection, using the following."
   ]
  },
  {
   "cell_type": "code",
   "execution_count": null,
   "id": "aaaf706a",
   "metadata": {},
   "outputs": [],
   "source": [
    "using DataStructures;\n",
    "counter(dim.(F))"
   ]
  },
  {
   "cell_type": "markdown",
   "id": "86ba6a1a",
   "metadata": {},
   "source": [
    "## The fan $\\Omega^*(I)$\n",
    "\n",
    "Recall that, for an ideal $I$ with point configuration $\\Delta$, we define $\\Omega^*(I)$ similar to $\\Omega(I)$ by\n",
    "\n",
    "$$ \\Omega^*(I) = \\{\\mathsf{w} \\in \\mathbb{R}^{n} \\, : \\, \\mathrm{in}_{\\mathsf{w}} I = I^{\\mathsf{w}} \\}. $$\n",
    "\n",
    "This is a subfan of the negative secondary fan $-\\mathrm{Sec}(\\Delta)$. \n",
    "\n",
    "---\n",
    "\n",
    "**Function:** `Omega_star_fan(I, Delta, Sec, outside = false)`\n",
    "\n",
    "*Description*: Given an ideal `I` of a polynomial ring, `Delta` the point configuration of `I`, and `Sec` the secondary fan of `Delta`, returns the fan $\\Omega(I)$ as a pair of rays and cones. If the option `outside = true`, then this lists the cones of `-Sec` that are *not* in `Omega`. \n",
    "\n",
    "Here, `Sec` can be given as a `PolyhedralFan` or as a pair `[rays_Delta, cones_Delta]` where `rays_Delta` is a `Vector{RayVector}` containing the rays and `cones_Delta` is a `IncidenceMatrix` recording the cones of `Sec`. The latter is useful when `Sec` is computed up to symmetry. "
   ]
  },
  {
   "cell_type": "code",
   "execution_count": null,
   "id": "df806af4",
   "metadata": {},
   "outputs": [],
   "source": [
    "function Omega_star_fan(I, Delta, Sec, outside = false)\n",
    "\n",
    "    if typeof(Sec) == PolyhedralFan{QQFieldElem}\n",
    "        rays_Delta = rays_modulo_lineality(Sec)[1];\n",
    "        cones_Delta = cones(Sec);\n",
    "    else\n",
    "        rays_Delta, cones_Delta = Sec\n",
    "    end\n",
    "\n",
    "    n_cones_Delta, n_rays_Delta = size(cones_Delta)\n",
    "    reps = [sum([rays_Delta[j] for j in 1:n_rays_Delta if cones_Delta[i,j]]) \n",
    "                               for i in 1:n_cones_Delta];\n",
    "\n",
    "    tests = []\n",
    "    for w in reps\n",
    "        w = Vector{Int64}(pm.common.primitive(w))\n",
    "        init_w_I = initial(I, nu_t, -w)\n",
    "        I_w = ideal_up_w(I, w, Delta)\n",
    "        push!(tests, init_w_I == I_w)\n",
    "    end\n",
    "    \n",
    "    if outside\n",
    "        outside_Omega = [i for i in 1:length(reps) if !tests[i]]\n",
    "        return [rays_Delta, cones_Delta[outside_Omega, :]]\n",
    "    else\n",
    "        inside_Omega = [i for i in 1:length(reps) if tests[i]];\n",
    "        return polyhedral_fan(incidence_matrix(cones_Delta[inside_Omega, :]), rays_Delta, lineality_space(Sec))\n",
    "    end\n",
    "    \n",
    "end"
   ]
  },
  {
   "cell_type": "markdown",
   "id": "9fad3bed",
   "metadata": {},
   "source": [
    "*Example*: We compute the fan $\\Omega^*(I)$, where $I$ is the toric ideal of $\\Delta(2,4)$. Since $\\Delta(2,4)$ only has unimodular triangulations, this fan is complete."
   ]
  },
  {
   "cell_type": "code",
   "execution_count": null,
   "id": "5925fe4d",
   "metadata": {},
   "outputs": [],
   "source": [
    "d = 4;\n",
    "n = 6;\n",
    "\n",
    "R, x = graded_polynomial_ring(QQ, \"x\" => (1:n));\n",
    "S, t, z = polynomial_ring(QQ, [:t], \"z\" => (1:d));\n",
    "t = t[1];\n",
    "\n",
    "A = vertices(Delta24)\n",
    "f = hom(R, S, [t*prod(z.^Int.(A[i])) for i in (1:n)]);\n",
    "I = kernel(f);\n",
    "\n",
    "F = Omega_star_fan(I, A, Sec24)\n",
    "is_complete(F)"
   ]
  },
  {
   "cell_type": "code",
   "execution_count": null,
   "id": "24f66cd2",
   "metadata": {},
   "outputs": [],
   "source": []
  }
 ],
 "metadata": {
  "kernelspec": {
   "display_name": "Julia 1.11.3",
   "language": "julia",
   "name": "julia-1.11"
  },
  "language_info": {
   "file_extension": ".jl",
   "mimetype": "application/julia",
   "name": "julia",
   "version": "1.11.3"
  }
 },
 "nbformat": 4,
 "nbformat_minor": 5
}
